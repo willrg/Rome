{
 "cells": [
  {
   "cell_type": "code",
   "execution_count": 4,
   "metadata": {
    "collapsed": false
   },
   "outputs": [],
   "source": [
    "from urllib.request import urlopen\n",
    "from bs4 import BeautifulSoup as BS\n"
   ]
  },
  {
   "cell_type": "code",
   "execution_count": 7,
   "metadata": {
    "collapsed": true
   },
   "outputs": [],
   "source": [
    "#import the link and read it as a beautiful soup object\n",
    "html=urlopen(\"http://thehistoryofrome.typepad.com/revolutions_podcast/tours.html\")\n",
    "bsObj=BS(html,\"html.parser\")"
   ]
  },
  {
   "cell_type": "code",
   "execution_count": 40,
   "metadata": {
    "collapsed": false
   },
   "outputs": [],
   "source": [
    "names=bsObj.find(\"div\",{\"class\":\"entry-body\"}).findAll(\"p\")"
   ]
  },
  {
   "cell_type": "code",
   "execution_count": 45,
   "metadata": {
    "collapsed": true
   },
   "outputs": [
    {
     "data": {
      "text/plain": [
       "['\\xa0',\n",
       " 'New History of Rome Tours are happening! Fall 2016!',\n",
       " 'Italy',\n",
       " 'or',\n",
       " 'Spain',\n",
       " 'Details and sign-ups coming soon.',\n",
       " '\\xa0']"
      ]
     },
     "execution_count": 45,
     "metadata": {},
     "output_type": "execute_result"
    }
   ],
   "source": [
    "list_text=[]\n",
    "for name in names:\n",
    "    list_text.append(name.get_text())\n",
    "list_text"
   ]
  },
  {
   "cell_type": "code",
   "execution_count": 49,
   "metadata": {
    "collapsed": false
   },
   "outputs": [],
   "source": [
    "list_text_original=['\\xa0',\n",
    " 'New History of Rome Tours are happening! Fall 2016!',\n",
    " 'Italy',\n",
    " 'or',\n",
    " 'Spain',\n",
    " 'Details and sign-ups coming soon.',\n",
    " '\\xa0']"
   ]
  },
  {
   "cell_type": "code",
   "execution_count": 50,
   "metadata": {
    "collapsed": false
   },
   "outputs": [
    {
     "data": {
      "text/plain": [
       "True"
      ]
     },
     "execution_count": 50,
     "metadata": {},
     "output_type": "execute_result"
    }
   ],
   "source": [
    "list_text==list_text_original"
   ]
  }
 ],
 "metadata": {
  "kernelspec": {
   "display_name": "Python 3",
   "language": "python",
   "name": "python3"
  },
  "language_info": {
   "codemirror_mode": {
    "name": "ipython",
    "version": 3
   },
   "file_extension": ".py",
   "mimetype": "text/x-python",
   "name": "python",
   "nbconvert_exporter": "python",
   "pygments_lexer": "ipython3",
   "version": "3.5.1"
  }
 },
 "nbformat": 4,
 "nbformat_minor": 0
}
